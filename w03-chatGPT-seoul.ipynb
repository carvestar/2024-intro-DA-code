{
  "nbformat": 4,
  "nbformat_minor": 0,
  "metadata": {
    "colab": {
      "provenance": [],
      "authorship_tag": "ABX9TyPaKfDgLaKXLdNTelHdIOoh",
      "include_colab_link": true
    },
    "kernelspec": {
      "name": "python3",
      "display_name": "Python 3"
    },
    "language_info": {
      "name": "python"
    }
  },
  "cells": [
    {
      "cell_type": "markdown",
      "metadata": {
        "id": "view-in-github",
        "colab_type": "text"
      },
      "source": [
        "<a href=\"https://colab.research.google.com/github/carvestar/2024-intro-DA-code/blob/main/w03_chatGPT_seoul.ipynb\" target=\"_parent\"><img src=\"https://colab.research.google.com/assets/colab-badge.svg\" alt=\"Open In Colab\"/></a>"
      ]
    },
    {
      "cell_type": "code",
      "source": [
        "import pandas as pd\n",
        "\n",
        "# CSV 파일 읽기\n",
        "file_path = 'seoul.csv'  # 파일 경로\n",
        "data = pd.read_csv(file_path, encoding='euc-kr')\n",
        "\n",
        "# '날짜' 열의 공백 제거\n",
        "data['날짜'] = data['날짜'].str.strip()\n",
        "\n",
        "# 최고 기온이 가장 높은 행 찾기\n",
        "max_temp_row = data.loc[data['최고기온(℃)'].idxmax()]\n",
        "\n",
        "# 가장 높은 기온과 해당 날짜\n",
        "max_temp_date = max_temp_row['날짜']\n",
        "max_temp_value = max_temp_row['최고기온(℃)']\n",
        "\n",
        "# 결과 출력\n",
        "print(f\"서울에서 기록된 가장 높은 온도는 {max_temp_value}℃이며, 해당 날짜는 {max_temp_date}입니다.\")"
      ],
      "metadata": {
        "colab": {
          "base_uri": "https://localhost:8080/"
        },
        "id": "co3sRqXzw5Ov",
        "outputId": "7aad753b-666d-43f3-e746-5cc1e0f5bcb8"
      },
      "execution_count": 1,
      "outputs": [
        {
          "output_type": "stream",
          "name": "stdout",
          "text": [
            "서울에서 기록된 가장 높은 온도는 39.6℃이며, 해당 날짜는 2018-08-01입니다.\n"
          ]
        }
      ]
    }
  ]
}
